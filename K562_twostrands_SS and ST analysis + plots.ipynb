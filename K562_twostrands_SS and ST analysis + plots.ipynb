{
 "cells": [
  {
   "cell_type": "markdown",
   "id": "7ada2071",
   "metadata": {
    "slideshow": {
     "slide_type": "slide"
    },
    "tags": []
   },
   "source": [
    "# Splice junctions analysis"
   ]
  },
  {
   "cell_type": "markdown",
   "id": "386fcc5a",
   "metadata": {},
   "source": []
  },
  {
   "cell_type": "markdown",
   "id": "4b5a92c2",
   "metadata": {},
   "source": [
    "## K562 sample https://www.encodeproject.org/files/ENCFF201FDK/"
   ]
  },
  {
   "cell_type": "markdown",
   "id": "7cd96966",
   "metadata": {},
   "source": [
    "In this case we will analyse the K562 sample as an example. In case of wanting to analyse any other sample, just change the csv file containing the output of regtools junctions annotate of the sample of interest."
   ]
  },
  {
   "cell_type": "code",
   "execution_count": 1,
   "id": "0d5aef68",
   "metadata": {},
   "outputs": [],
   "source": [
    "import pandas as pd\n",
    "from matplotlib import pyplot as plt\n",
    "import seaborn as sns\n",
    "## the next line allows us to visualize the plots generated with matplotlib inside the notebook.\n",
    "%matplotlib inline"
   ]
  },
  {
   "cell_type": "code",
   "execution_count": 2,
   "id": "a43d0f18-3bfb-44c7-85b8-947ad2fb33c2",
   "metadata": {},
   "outputs": [
    {
     "data": {
      "text/html": [
       "<div>\n",
       "<style scoped>\n",
       "    .dataframe tbody tr th:only-of-type {\n",
       "        vertical-align: middle;\n",
       "    }\n",
       "\n",
       "    .dataframe tbody tr th {\n",
       "        vertical-align: top;\n",
       "    }\n",
       "\n",
       "    .dataframe thead th {\n",
       "        text-align: right;\n",
       "    }\n",
       "</style>\n",
       "<table border=\"1\" class=\"dataframe\">\n",
       "  <thead>\n",
       "    <tr style=\"text-align: right;\">\n",
       "      <th></th>\n",
       "      <th>chrom</th>\n",
       "      <th>start</th>\n",
       "      <th>end</th>\n",
       "      <th>name</th>\n",
       "      <th>score</th>\n",
       "      <th>strand</th>\n",
       "      <th>splice_site</th>\n",
       "      <th>acceptors_skipped</th>\n",
       "      <th>exons_skipped</th>\n",
       "      <th>donors_skipped</th>\n",
       "      <th>anchor</th>\n",
       "      <th>known_donor</th>\n",
       "      <th>known_acceptor</th>\n",
       "      <th>known_junction</th>\n",
       "      <th>gene_names</th>\n",
       "      <th>gene_ids</th>\n",
       "      <th>transcripts</th>\n",
       "    </tr>\n",
       "  </thead>\n",
       "  <tbody>\n",
       "    <tr>\n",
       "      <th>0</th>\n",
       "      <td>chr1</td>\n",
       "      <td>16765</td>\n",
       "      <td>16858</td>\n",
       "      <td>JUNC00000001</td>\n",
       "      <td>4</td>\n",
       "      <td>-</td>\n",
       "      <td>GT-AG</td>\n",
       "      <td>0</td>\n",
       "      <td>0</td>\n",
       "      <td>0</td>\n",
       "      <td>DA</td>\n",
       "      <td>1</td>\n",
       "      <td>1</td>\n",
       "      <td>1</td>\n",
       "      <td>WASH7P</td>\n",
       "      <td>ENSG00000227232.5</td>\n",
       "      <td>ENST00000488147.1</td>\n",
       "    </tr>\n",
       "    <tr>\n",
       "      <th>1</th>\n",
       "      <td>chr1</td>\n",
       "      <td>17055</td>\n",
       "      <td>17233</td>\n",
       "      <td>JUNC00000002</td>\n",
       "      <td>124</td>\n",
       "      <td>-</td>\n",
       "      <td>GT-AG</td>\n",
       "      <td>0</td>\n",
       "      <td>0</td>\n",
       "      <td>0</td>\n",
       "      <td>DA</td>\n",
       "      <td>1</td>\n",
       "      <td>1</td>\n",
       "      <td>1</td>\n",
       "      <td>WASH7P</td>\n",
       "      <td>ENSG00000227232.5</td>\n",
       "      <td>ENST00000488147.1</td>\n",
       "    </tr>\n",
       "    <tr>\n",
       "      <th>2</th>\n",
       "      <td>chr1</td>\n",
       "      <td>17368</td>\n",
       "      <td>17606</td>\n",
       "      <td>JUNC00000003</td>\n",
       "      <td>41</td>\n",
       "      <td>-</td>\n",
       "      <td>GT-AG</td>\n",
       "      <td>0</td>\n",
       "      <td>0</td>\n",
       "      <td>1</td>\n",
       "      <td>DA</td>\n",
       "      <td>1</td>\n",
       "      <td>1</td>\n",
       "      <td>1</td>\n",
       "      <td>WASH7P</td>\n",
       "      <td>ENSG00000227232.5</td>\n",
       "      <td>ENST00000488147.1</td>\n",
       "    </tr>\n",
       "    <tr>\n",
       "      <th>3</th>\n",
       "      <td>chr1</td>\n",
       "      <td>17368</td>\n",
       "      <td>17526</td>\n",
       "      <td>JUNC00000004</td>\n",
       "      <td>1</td>\n",
       "      <td>-</td>\n",
       "      <td>GT-AG</td>\n",
       "      <td>0</td>\n",
       "      <td>0</td>\n",
       "      <td>1</td>\n",
       "      <td>A</td>\n",
       "      <td>0</td>\n",
       "      <td>1</td>\n",
       "      <td>0</td>\n",
       "      <td>WASH7P</td>\n",
       "      <td>ENSG00000227232.5</td>\n",
       "      <td>ENST00000488147.1</td>\n",
       "    </tr>\n",
       "    <tr>\n",
       "      <th>4</th>\n",
       "      <td>chr1</td>\n",
       "      <td>17742</td>\n",
       "      <td>17915</td>\n",
       "      <td>JUNC00000005</td>\n",
       "      <td>9</td>\n",
       "      <td>-</td>\n",
       "      <td>GT-AG</td>\n",
       "      <td>0</td>\n",
       "      <td>0</td>\n",
       "      <td>0</td>\n",
       "      <td>DA</td>\n",
       "      <td>1</td>\n",
       "      <td>1</td>\n",
       "      <td>1</td>\n",
       "      <td>WASH7P</td>\n",
       "      <td>ENSG00000227232.5</td>\n",
       "      <td>ENST00000488147.1</td>\n",
       "    </tr>\n",
       "    <tr>\n",
       "      <th>...</th>\n",
       "      <td>...</td>\n",
       "      <td>...</td>\n",
       "      <td>...</td>\n",
       "      <td>...</td>\n",
       "      <td>...</td>\n",
       "      <td>...</td>\n",
       "      <td>...</td>\n",
       "      <td>...</td>\n",
       "      <td>...</td>\n",
       "      <td>...</td>\n",
       "      <td>...</td>\n",
       "      <td>...</td>\n",
       "      <td>...</td>\n",
       "      <td>...</td>\n",
       "      <td>...</td>\n",
       "      <td>...</td>\n",
       "      <td>...</td>\n",
       "    </tr>\n",
       "    <tr>\n",
       "      <th>188823</th>\n",
       "      <td>chrY</td>\n",
       "      <td>25465661</td>\n",
       "      <td>25473460</td>\n",
       "      <td>JUNC00201406</td>\n",
       "      <td>3</td>\n",
       "      <td>+</td>\n",
       "      <td>GT-AG</td>\n",
       "      <td>0</td>\n",
       "      <td>0</td>\n",
       "      <td>0</td>\n",
       "      <td>DA</td>\n",
       "      <td>1</td>\n",
       "      <td>1</td>\n",
       "      <td>1</td>\n",
       "      <td>AC006328.2</td>\n",
       "      <td>ENSG00000284380.1</td>\n",
       "      <td>ENST00000623198.2</td>\n",
       "    </tr>\n",
       "    <tr>\n",
       "      <th>188824</th>\n",
       "      <td>chrY</td>\n",
       "      <td>25490870</td>\n",
       "      <td>25492268</td>\n",
       "      <td>JUNC00201407</td>\n",
       "      <td>2</td>\n",
       "      <td>+</td>\n",
       "      <td>GT-AG</td>\n",
       "      <td>0</td>\n",
       "      <td>0</td>\n",
       "      <td>0</td>\n",
       "      <td>N</td>\n",
       "      <td>0</td>\n",
       "      <td>0</td>\n",
       "      <td>0</td>\n",
       "      <td>NaN</td>\n",
       "      <td>NaN</td>\n",
       "      <td>NaN</td>\n",
       "    </tr>\n",
       "    <tr>\n",
       "      <th>188825</th>\n",
       "      <td>chrY</td>\n",
       "      <td>26279177</td>\n",
       "      <td>26279266</td>\n",
       "      <td>JUNC00201408</td>\n",
       "      <td>2</td>\n",
       "      <td>-</td>\n",
       "      <td>GT-AG</td>\n",
       "      <td>0</td>\n",
       "      <td>0</td>\n",
       "      <td>0</td>\n",
       "      <td>DA</td>\n",
       "      <td>1</td>\n",
       "      <td>1</td>\n",
       "      <td>1</td>\n",
       "      <td>PPP1R12BP1</td>\n",
       "      <td>ENSG00000229238.3</td>\n",
       "      <td>ENST00000367272.4</td>\n",
       "    </tr>\n",
       "    <tr>\n",
       "      <th>188826</th>\n",
       "      <td>chrY</td>\n",
       "      <td>26281629</td>\n",
       "      <td>26291048</td>\n",
       "      <td>JUNC00201409</td>\n",
       "      <td>2</td>\n",
       "      <td>-</td>\n",
       "      <td>GT-AG</td>\n",
       "      <td>0</td>\n",
       "      <td>0</td>\n",
       "      <td>0</td>\n",
       "      <td>DA</td>\n",
       "      <td>1</td>\n",
       "      <td>1</td>\n",
       "      <td>1</td>\n",
       "      <td>PPP1R12BP1</td>\n",
       "      <td>ENSG00000229238.3</td>\n",
       "      <td>ENST00000367272.4</td>\n",
       "    </tr>\n",
       "    <tr>\n",
       "      <th>188827</th>\n",
       "      <td>chrY</td>\n",
       "      <td>26621895</td>\n",
       "      <td>26622512</td>\n",
       "      <td>JUNC00201410</td>\n",
       "      <td>3</td>\n",
       "      <td>-</td>\n",
       "      <td>GT-AG</td>\n",
       "      <td>0</td>\n",
       "      <td>0</td>\n",
       "      <td>0</td>\n",
       "      <td>DA</td>\n",
       "      <td>1</td>\n",
       "      <td>1</td>\n",
       "      <td>1</td>\n",
       "      <td>PARP4P1</td>\n",
       "      <td>ENSG00000237917.1</td>\n",
       "      <td>ENST00000435945.1</td>\n",
       "    </tr>\n",
       "  </tbody>\n",
       "</table>\n",
       "<p>188828 rows × 17 columns</p>\n",
       "</div>"
      ],
      "text/plain": [
       "       chrom     start       end          name  score strand splice_site  \\\n",
       "0       chr1     16765     16858  JUNC00000001      4      -       GT-AG   \n",
       "1       chr1     17055     17233  JUNC00000002    124      -       GT-AG   \n",
       "2       chr1     17368     17606  JUNC00000003     41      -       GT-AG   \n",
       "3       chr1     17368     17526  JUNC00000004      1      -       GT-AG   \n",
       "4       chr1     17742     17915  JUNC00000005      9      -       GT-AG   \n",
       "...      ...       ...       ...           ...    ...    ...         ...   \n",
       "188823  chrY  25465661  25473460  JUNC00201406      3      +       GT-AG   \n",
       "188824  chrY  25490870  25492268  JUNC00201407      2      +       GT-AG   \n",
       "188825  chrY  26279177  26279266  JUNC00201408      2      -       GT-AG   \n",
       "188826  chrY  26281629  26291048  JUNC00201409      2      -       GT-AG   \n",
       "188827  chrY  26621895  26622512  JUNC00201410      3      -       GT-AG   \n",
       "\n",
       "        acceptors_skipped  exons_skipped  donors_skipped anchor  known_donor  \\\n",
       "0                       0              0               0     DA            1   \n",
       "1                       0              0               0     DA            1   \n",
       "2                       0              0               1     DA            1   \n",
       "3                       0              0               1      A            0   \n",
       "4                       0              0               0     DA            1   \n",
       "...                   ...            ...             ...    ...          ...   \n",
       "188823                  0              0               0     DA            1   \n",
       "188824                  0              0               0      N            0   \n",
       "188825                  0              0               0     DA            1   \n",
       "188826                  0              0               0     DA            1   \n",
       "188827                  0              0               0     DA            1   \n",
       "\n",
       "        known_acceptor  known_junction  gene_names           gene_ids  \\\n",
       "0                    1               1      WASH7P  ENSG00000227232.5   \n",
       "1                    1               1      WASH7P  ENSG00000227232.5   \n",
       "2                    1               1      WASH7P  ENSG00000227232.5   \n",
       "3                    1               0      WASH7P  ENSG00000227232.5   \n",
       "4                    1               1      WASH7P  ENSG00000227232.5   \n",
       "...                ...             ...         ...                ...   \n",
       "188823               1               1  AC006328.2  ENSG00000284380.1   \n",
       "188824               0               0         NaN                NaN   \n",
       "188825               1               1  PPP1R12BP1  ENSG00000229238.3   \n",
       "188826               1               1  PPP1R12BP1  ENSG00000229238.3   \n",
       "188827               1               1     PARP4P1  ENSG00000237917.1   \n",
       "\n",
       "              transcripts  \n",
       "0       ENST00000488147.1  \n",
       "1       ENST00000488147.1  \n",
       "2       ENST00000488147.1  \n",
       "3       ENST00000488147.1  \n",
       "4       ENST00000488147.1  \n",
       "...                   ...  \n",
       "188823  ENST00000623198.2  \n",
       "188824                NaN  \n",
       "188825  ENST00000367272.4  \n",
       "188826  ENST00000367272.4  \n",
       "188827  ENST00000435945.1  \n",
       "\n",
       "[188828 rows x 17 columns]"
      ]
     },
     "execution_count": 2,
     "metadata": {},
     "output_type": "execute_result"
    }
   ],
   "source": [
    "# Here we select the csv file contining the splice junctions of the sample of interest\n",
    "data_K562 = pd.read_csv(\"AnnoJunctions_Heart.csv\")\n",
    "len(data_K562)\n",
    "data_K562"
   ]
  },
  {
   "cell_type": "code",
   "execution_count": 3,
   "id": "2f0f770d",
   "metadata": {},
   "outputs": [],
   "source": [
    "# The following line allows us to make a first filtering on the number of reads for all splice forms. \n",
    "#In this case we will work with the raw data and filter the sum of reads of all the splice forms in a splice junction.\n",
    "K562_10 = data_K562.loc[data_K562['score'] >= 0]"
   ]
  },
  {
   "cell_type": "code",
   "execution_count": 4,
   "id": "73e7f670",
   "metadata": {},
   "outputs": [
    {
     "data": {
      "text/html": [
       "<div>\n",
       "<style scoped>\n",
       "    .dataframe tbody tr th:only-of-type {\n",
       "        vertical-align: middle;\n",
       "    }\n",
       "\n",
       "    .dataframe tbody tr th {\n",
       "        vertical-align: top;\n",
       "    }\n",
       "\n",
       "    .dataframe thead th {\n",
       "        text-align: right;\n",
       "    }\n",
       "</style>\n",
       "<table border=\"1\" class=\"dataframe\">\n",
       "  <thead>\n",
       "    <tr style=\"text-align: right;\">\n",
       "      <th></th>\n",
       "      <th>start</th>\n",
       "      <th>end</th>\n",
       "      <th>score</th>\n",
       "      <th>acceptors_skipped</th>\n",
       "      <th>exons_skipped</th>\n",
       "      <th>donors_skipped</th>\n",
       "      <th>known_donor</th>\n",
       "      <th>known_acceptor</th>\n",
       "      <th>known_junction</th>\n",
       "    </tr>\n",
       "  </thead>\n",
       "  <tbody>\n",
       "    <tr>\n",
       "      <th>count</th>\n",
       "      <td>1.888280e+05</td>\n",
       "      <td>1.888280e+05</td>\n",
       "      <td>188828.000000</td>\n",
       "      <td>188828.000000</td>\n",
       "      <td>188828.000000</td>\n",
       "      <td>188828.000000</td>\n",
       "      <td>188828.000000</td>\n",
       "      <td>188828.000000</td>\n",
       "      <td>188828.000000</td>\n",
       "    </tr>\n",
       "    <tr>\n",
       "      <th>mean</th>\n",
       "      <td>7.672537e+07</td>\n",
       "      <td>7.673195e+07</td>\n",
       "      <td>84.491389</td>\n",
       "      <td>0.535556</td>\n",
       "      <td>0.299495</td>\n",
       "      <td>0.611350</td>\n",
       "      <td>0.863039</td>\n",
       "      <td>0.854826</td>\n",
       "      <td>0.760946</td>\n",
       "    </tr>\n",
       "    <tr>\n",
       "      <th>std</th>\n",
       "      <td>5.609841e+07</td>\n",
       "      <td>5.609863e+07</td>\n",
       "      <td>933.897870</td>\n",
       "      <td>1.956420</td>\n",
       "      <td>1.484090</td>\n",
       "      <td>2.097791</td>\n",
       "      <td>0.343807</td>\n",
       "      <td>0.352278</td>\n",
       "      <td>0.426507</td>\n",
       "    </tr>\n",
       "    <tr>\n",
       "      <th>min</th>\n",
       "      <td>1.660000e+02</td>\n",
       "      <td>1.326000e+03</td>\n",
       "      <td>1.000000</td>\n",
       "      <td>0.000000</td>\n",
       "      <td>0.000000</td>\n",
       "      <td>0.000000</td>\n",
       "      <td>0.000000</td>\n",
       "      <td>0.000000</td>\n",
       "      <td>0.000000</td>\n",
       "    </tr>\n",
       "    <tr>\n",
       "      <th>25%</th>\n",
       "      <td>3.282143e+07</td>\n",
       "      <td>3.282500e+07</td>\n",
       "      <td>2.000000</td>\n",
       "      <td>0.000000</td>\n",
       "      <td>0.000000</td>\n",
       "      <td>0.000000</td>\n",
       "      <td>1.000000</td>\n",
       "      <td>1.000000</td>\n",
       "      <td>1.000000</td>\n",
       "    </tr>\n",
       "    <tr>\n",
       "      <th>50%</th>\n",
       "      <td>6.428977e+07</td>\n",
       "      <td>6.430416e+07</td>\n",
       "      <td>7.000000</td>\n",
       "      <td>0.000000</td>\n",
       "      <td>0.000000</td>\n",
       "      <td>0.000000</td>\n",
       "      <td>1.000000</td>\n",
       "      <td>1.000000</td>\n",
       "      <td>1.000000</td>\n",
       "    </tr>\n",
       "    <tr>\n",
       "      <th>75%</th>\n",
       "      <td>1.124729e+08</td>\n",
       "      <td>1.124828e+08</td>\n",
       "      <td>37.000000</td>\n",
       "      <td>0.000000</td>\n",
       "      <td>0.000000</td>\n",
       "      <td>1.000000</td>\n",
       "      <td>1.000000</td>\n",
       "      <td>1.000000</td>\n",
       "      <td>1.000000</td>\n",
       "    </tr>\n",
       "    <tr>\n",
       "      <th>max</th>\n",
       "      <td>2.489168e+08</td>\n",
       "      <td>2.489173e+08</td>\n",
       "      <td>153692.000000</td>\n",
       "      <td>174.000000</td>\n",
       "      <td>169.000000</td>\n",
       "      <td>170.000000</td>\n",
       "      <td>1.000000</td>\n",
       "      <td>1.000000</td>\n",
       "      <td>1.000000</td>\n",
       "    </tr>\n",
       "  </tbody>\n",
       "</table>\n",
       "</div>"
      ],
      "text/plain": [
       "              start           end          score  acceptors_skipped  \\\n",
       "count  1.888280e+05  1.888280e+05  188828.000000      188828.000000   \n",
       "mean   7.672537e+07  7.673195e+07      84.491389           0.535556   \n",
       "std    5.609841e+07  5.609863e+07     933.897870           1.956420   \n",
       "min    1.660000e+02  1.326000e+03       1.000000           0.000000   \n",
       "25%    3.282143e+07  3.282500e+07       2.000000           0.000000   \n",
       "50%    6.428977e+07  6.430416e+07       7.000000           0.000000   \n",
       "75%    1.124729e+08  1.124828e+08      37.000000           0.000000   \n",
       "max    2.489168e+08  2.489173e+08  153692.000000         174.000000   \n",
       "\n",
       "       exons_skipped  donors_skipped    known_donor  known_acceptor  \\\n",
       "count  188828.000000   188828.000000  188828.000000   188828.000000   \n",
       "mean        0.299495        0.611350       0.863039        0.854826   \n",
       "std         1.484090        2.097791       0.343807        0.352278   \n",
       "min         0.000000        0.000000       0.000000        0.000000   \n",
       "25%         0.000000        0.000000       1.000000        1.000000   \n",
       "50%         0.000000        0.000000       1.000000        1.000000   \n",
       "75%         0.000000        1.000000       1.000000        1.000000   \n",
       "max       169.000000      170.000000       1.000000        1.000000   \n",
       "\n",
       "       known_junction  \n",
       "count   188828.000000  \n",
       "mean         0.760946  \n",
       "std          0.426507  \n",
       "min          0.000000  \n",
       "25%          1.000000  \n",
       "50%          1.000000  \n",
       "75%          1.000000  \n",
       "max          1.000000  "
      ]
     },
     "execution_count": 4,
     "metadata": {},
     "output_type": "execute_result"
    }
   ],
   "source": [
    "## some statistics for each variable\n",
    "K562_10.describe()"
   ]
  },
  {
   "cell_type": "markdown",
   "id": "5372be9f",
   "metadata": {},
   "source": [
    "We will separate the data according to whether they belong to the + or - strand. Then, we will select the duplicates and\n",
    "count the constitutive splicing events. Later, we will join both duplicated datasets to continue with the analysis."
   ]
  },
  {
   "cell_type": "code",
   "execution_count": 5,
   "id": "615ef0ee",
   "metadata": {
    "scrolled": true
   },
   "outputs": [],
   "source": [
    "K562_minus = K562_10.loc[K562_10['strand'] == \"-\"]"
   ]
  },
  {
   "cell_type": "code",
   "execution_count": 6,
   "id": "803ce809",
   "metadata": {},
   "outputs": [],
   "source": [
    "# Now we are selecting the Single Source splice forms (they share the same start position)\n",
    "K562_SS_minus = K562_minus[K562_minus.duplicated(subset = ['end'], keep = False)]"
   ]
  },
  {
   "cell_type": "code",
   "execution_count": 7,
   "id": "d4ca4273",
   "metadata": {},
   "outputs": [],
   "source": [
    "# Now we are selecting the Single Target splice forms (they share the same end position)\n",
    "K562_ST_minus = K562_minus[K562_minus.duplicated(subset = ['start'], keep = False)]"
   ]
  },
  {
   "cell_type": "code",
   "execution_count": 8,
   "id": "3cbaaa34",
   "metadata": {},
   "outputs": [],
   "source": [
    "K562_plus = K562_10.loc[K562_10['strand'] == \"+\"]"
   ]
  },
  {
   "cell_type": "code",
   "execution_count": 9,
   "id": "078ab065",
   "metadata": {},
   "outputs": [],
   "source": [
    "# Now we are selecting the Single Source splice forms (they share the same start position)\n",
    "K562_SS_plus = K562_plus[K562_plus.duplicated(subset = ['start'], keep = False)]"
   ]
  },
  {
   "cell_type": "code",
   "execution_count": 10,
   "id": "a6e0117a",
   "metadata": {},
   "outputs": [],
   "source": [
    "# Now we are selecting the Single Tartget  splice forms (they share the same end position)\n",
    "K562_ST_plus = K562_plus[K562_plus.duplicated(subset = ['end'], keep = False)]"
   ]
  },
  {
   "cell_type": "code",
   "execution_count": 11,
   "id": "16f0770b",
   "metadata": {},
   "outputs": [
    {
     "data": {
      "text/plain": [
       "112648"
      ]
     },
     "execution_count": 11,
     "metadata": {},
     "output_type": "execute_result"
    }
   ],
   "source": [
    "# Number of alternatively spliced forms in this dataset\n",
    "AS = (len(K562_SS_plus)+len(K562_ST_plus)+len(K562_SS_minus)+len(K562_ST_minus))\n",
    "AS"
   ]
  },
  {
   "cell_type": "code",
   "execution_count": 12,
   "id": "d022b8fa",
   "metadata": {},
   "outputs": [
    {
     "data": {
      "text/plain": [
       "0.5965640688880887"
      ]
     },
     "execution_count": 12,
     "metadata": {},
     "output_type": "execute_result"
    }
   ],
   "source": [
    "# Percentage of splice forms that, from the total of splice forms after filtering, are detected as part of an alternatively spliced junction\n",
    "(len(K562_SS_plus)+len(K562_ST_plus)+len(K562_SS_minus)+len(K562_ST_minus))/len(K562_10)\n"
   ]
  },
  {
   "cell_type": "code",
   "execution_count": 13,
   "id": "edb6e5ba",
   "metadata": {},
   "outputs": [
    {
     "data": {
      "text/plain": [
       "76180"
      ]
     },
     "execution_count": 13,
     "metadata": {},
     "output_type": "execute_result"
    }
   ],
   "source": [
    "# Number of constitutively spliced junctions:\n",
    "const = len(K562_10) - (len(K562_SS_plus)+len(K562_ST_plus)+len(K562_SS_minus)+len(K562_ST_minus))\n",
    "const"
   ]
  },
  {
   "cell_type": "code",
   "execution_count": 14,
   "id": "b46899fc",
   "metadata": {},
   "outputs": [
    {
     "data": {
      "text/plain": [
       "True"
      ]
     },
     "execution_count": 14,
     "metadata": {},
     "output_type": "execute_result"
    }
   ],
   "source": [
    "AS + const == len(K562_10)"
   ]
  },
  {
   "cell_type": "markdown",
   "id": "ac6d5c1b",
   "metadata": {},
   "source": [
    "### Spliced forms number for a given splice junction\n",
    "We want to study how many spliced states or forms do the splice junctions have.\n"
   ]
  },
  {
   "cell_type": "markdown",
   "id": "de409e45",
   "metadata": {},
   "source": [
    "With the following code chunk we can generate a dataframe that contains the number of spliced forms detected for each spliced junction start position. It includes the constitutive spliced forms."
   ]
  },
  {
   "cell_type": "markdown",
   "id": "ea8a1b48",
   "metadata": {},
   "source": [
    "If we want to analyse only the splice forms that have a minimum number of reads, we should filter them on code chunk 3."
   ]
  },
  {
   "cell_type": "code",
   "execution_count": 15,
   "id": "6910637c",
   "metadata": {},
   "outputs": [],
   "source": [
    "end_repetitions = K562_10[\"end\"].value_counts()\n",
    "end_repetitions = end_repetitions.to_frame()\n",
    "end_repetitions.rename(columns = {'end':'number_spliced_forms'}, inplace = True)"
   ]
  },
  {
   "cell_type": "code",
   "execution_count": 16,
   "id": "0b9387f5",
   "metadata": {},
   "outputs": [],
   "source": [
    "repetitions = K562_10['start'].value_counts()\n",
    "repetitions = repetitions.to_frame()\n",
    "repetitions.rename(columns = {'start':'number_spliced_forms'}, inplace = True)"
   ]
  },
  {
   "cell_type": "code",
   "execution_count": 17,
   "id": "76501935",
   "metadata": {
    "scrolled": true
   },
   "outputs": [],
   "source": [
    "index_end = pd.Index(end_repetitions.index)\n",
    "index_start = pd.Index(repetitions.index)\n",
    "common_index = index_end.intersection(index_start)"
   ]
  },
  {
   "cell_type": "code",
   "execution_count": 18,
   "id": "e2fdcd6c",
   "metadata": {
    "scrolled": true
   },
   "outputs": [
    {
     "data": {
      "text/html": [
       "<div>\n",
       "<style scoped>\n",
       "    .dataframe tbody tr th:only-of-type {\n",
       "        vertical-align: middle;\n",
       "    }\n",
       "\n",
       "    .dataframe tbody tr th {\n",
       "        vertical-align: top;\n",
       "    }\n",
       "\n",
       "    .dataframe thead th {\n",
       "        text-align: right;\n",
       "    }\n",
       "</style>\n",
       "<table border=\"1\" class=\"dataframe\">\n",
       "  <thead>\n",
       "    <tr style=\"text-align: right;\">\n",
       "      <th></th>\n",
       "    </tr>\n",
       "  </thead>\n",
       "  <tbody>\n",
       "    <tr>\n",
       "      <th>17877067</th>\n",
       "    </tr>\n",
       "    <tr>\n",
       "      <th>17876833</th>\n",
       "    </tr>\n",
       "    <tr>\n",
       "      <th>17876914</th>\n",
       "    </tr>\n",
       "    <tr>\n",
       "      <th>17876851</th>\n",
       "    </tr>\n",
       "    <tr>\n",
       "      <th>46293043</th>\n",
       "    </tr>\n",
       "    <tr>\n",
       "      <th>...</th>\n",
       "    </tr>\n",
       "    <tr>\n",
       "      <th>45714079</th>\n",
       "    </tr>\n",
       "    <tr>\n",
       "      <th>38125506</th>\n",
       "    </tr>\n",
       "    <tr>\n",
       "      <th>45476627</th>\n",
       "    </tr>\n",
       "    <tr>\n",
       "      <th>92639900</th>\n",
       "    </tr>\n",
       "    <tr>\n",
       "      <th>99820122</th>\n",
       "    </tr>\n",
       "  </tbody>\n",
       "</table>\n",
       "<p>155011 rows × 0 columns</p>\n",
       "</div>"
      ],
      "text/plain": [
       "Empty DataFrame\n",
       "Columns: []\n",
       "Index: [17877067, 17876833, 17876914, 17876851, 46293043, 17876842, 17876932, 17876905, 17876779, 170398983, 17876788, 17876725, 65878791, 17876896, 63127384, 17877130, 17877139, 77216088, 63309312, 17877166, 17877076, 17876923, 170398868, 17876869, 17877004, 77215935, 77216114, 17876887, 77215922, 17877157, 77215779, 170399022, 24968082, 173536970, 178642317, 90001561, 17876995, 17877175, 170398751, 170398400, 170398556, 77215958, 57173869, 74370392, 17876977, 17877148, 17877094, 201368227, 170398712, 77215909, 170398439, 17877112, 170398517, 40473774, 17876950, 77216101, 163089408, 17877220, 170399100, 18075587, 62137823, 159711267, 5240255, 17876770, 17877049, 77215896, 170398361, 123352581, 50680048, 40046069, 17876986, 80602379, 77215818, 302687, 77215870, 87499585, 110919193, 64613786, 17877202, 77216127, 5109445, 17877121, 17877184, 95384285, 119164394, 1764, 77216075, 17877328, 733364, 37255982, 77215984, 77215766, 77215997, 2275, 35611106, 79201726, 77215831, 77215753, 54124865, 17876968, ...]\n",
       "\n",
       "[155011 rows x 0 columns]"
      ]
     },
     "execution_count": 18,
     "metadata": {},
     "output_type": "execute_result"
    }
   ],
   "source": [
    "index_end\n",
    "repetitions.iloc[:,1:3]"
   ]
  },
  {
   "cell_type": "code",
   "execution_count": 19,
   "id": "3f48a5a0",
   "metadata": {},
   "outputs": [],
   "source": [
    "df_two_strands = pd.concat([repetitions, end_repetitions])"
   ]
  },
  {
   "cell_type": "code",
   "execution_count": 20,
   "id": "43fa9af9",
   "metadata": {},
   "outputs": [],
   "source": [
    "df_two_strands.to_csv('number_splice_forms_K562_0.csv')"
   ]
  },
  {
   "cell_type": "code",
   "execution_count": 21,
   "id": "0f7ec8a1",
   "metadata": {},
   "outputs": [
    {
     "data": {
      "image/png": "[encoded data removed]",
      "text/plain": [
       "<Figure size 508.625x360 with 1 Axes>"
      ]
     },
     "metadata": {
      "needs_background": "light"
     },
     "output_type": "display_data"
    }
   ],
   "source": [
    "plot1 = sns.displot(data=df_two_strands, \n",
    "              color = 'black')\n",
    "plot1.set(xlabel='Number of splice forms', ylabel='Frequency')\n",
    "plot1.set(yscale=\"log\")\n",
    "plot1.set(xlim=(0, None))\n",
    "plt.show()"
   ]
  },
  {
   "cell_type": "markdown",
   "id": "f41bcf40",
   "metadata": {},
   "source": [
    "We now can explore how many splice forms do the splice junctions further. "
   ]
  },
  {
   "cell_type": "code",
   "execution_count": 22,
   "id": "6498e8a1",
   "metadata": {},
   "outputs": [
    {
     "data": {
      "text/plain": [
       "309828"
      ]
     },
     "execution_count": 22,
     "metadata": {},
     "output_type": "execute_result"
    }
   ],
   "source": [
    "len(df_two_strands)"
   ]
  },
  {
   "cell_type": "code",
   "execution_count": 23,
   "id": "691e142c",
   "metadata": {},
   "outputs": [
    {
     "data": {
      "text/html": [
       "<div>\n",
       "<style scoped>\n",
       "    .dataframe tbody tr th:only-of-type {\n",
       "        vertical-align: middle;\n",
       "    }\n",
       "\n",
       "    .dataframe tbody tr th {\n",
       "        vertical-align: top;\n",
       "    }\n",
       "\n",
       "    .dataframe thead th {\n",
       "        text-align: right;\n",
       "    }\n",
       "</style>\n",
       "<table border=\"1\" class=\"dataframe\">\n",
       "  <thead>\n",
       "    <tr style=\"text-align: right;\">\n",
       "      <th></th>\n",
       "      <th>number_spliced_forms</th>\n",
       "    </tr>\n",
       "  </thead>\n",
       "  <tbody>\n",
       "    <tr>\n",
       "      <th>count</th>\n",
       "      <td>309828.000000</td>\n",
       "    </tr>\n",
       "    <tr>\n",
       "      <th>mean</th>\n",
       "      <td>1.218921</td>\n",
       "    </tr>\n",
       "    <tr>\n",
       "      <th>std</th>\n",
       "      <td>0.653242</td>\n",
       "    </tr>\n",
       "    <tr>\n",
       "      <th>min</th>\n",
       "      <td>1.000000</td>\n",
       "    </tr>\n",
       "    <tr>\n",
       "      <th>25%</th>\n",
       "      <td>1.000000</td>\n",
       "    </tr>\n",
       "    <tr>\n",
       "      <th>50%</th>\n",
       "      <td>1.000000</td>\n",
       "    </tr>\n",
       "    <tr>\n",
       "      <th>75%</th>\n",
       "      <td>1.000000</td>\n",
       "    </tr>\n",
       "    <tr>\n",
       "      <th>max</th>\n",
       "      <td>38.000000</td>\n",
       "    </tr>\n",
       "  </tbody>\n",
       "</table>\n",
       "</div>"
      ],
      "text/plain": [
       "       number_spliced_forms\n",
       "count         309828.000000\n",
       "mean               1.218921\n",
       "std                0.653242\n",
       "min                1.000000\n",
       "25%                1.000000\n",
       "50%                1.000000\n",
       "75%                1.000000\n",
       "max               38.000000"
      ]
     },
     "execution_count": 23,
     "metadata": {},
     "output_type": "execute_result"
    }
   ],
   "source": [
    "df_two_strands.describe()"
   ]
  },
  {
   "cell_type": "markdown",
   "id": "92a413e0",
   "metadata": {},
   "source": [
    "## First type of filtering: after the sum of the common scores of a splice junction"
   ]
  },
  {
   "cell_type": "code",
   "execution_count": 24,
   "id": "1a9fe669",
   "metadata": {},
   "outputs": [],
   "source": [
    "filt_SS_plus = K562_SS_plus.groupby('start')['score'].sum()\n",
    "filt_SS_plus = filt_SS_plus.to_frame()\n",
    "filtered_SS_plus = filt_SS_plus.loc[filt_SS_plus['score'] >= 10]\n",
    "filtered_SS_plus.reset_index(inplace=True)\n",
    "common_SS_plus = K562_SS_plus.merge(filtered_SS_plus, on=[\"start\"], copy=False)"
   ]
  },
  {
   "cell_type": "code",
   "execution_count": 25,
   "id": "5f0f6aa8",
   "metadata": {},
   "outputs": [],
   "source": [
    "filt_ST_plus = K562_ST_plus.groupby('end')['score'].sum()\n",
    "filt_ST_plus = filt_ST_plus.to_frame()\n",
    "filtered_ST_plus = filt_ST_plus.loc[filt_ST_plus['score'] >= 10]\n",
    "filtered_ST_plus.reset_index(inplace=True)\n",
    "common_ST_plus = K562_ST_plus.merge(filtered_ST_plus, on=[\"end\"], copy=False)"
   ]
  },
  {
   "cell_type": "code",
   "execution_count": 26,
   "id": "1d96094e",
   "metadata": {
    "scrolled": true
   },
   "outputs": [],
   "source": [
    "filt_ST_minus = K562_ST_minus.groupby('start')['score'].sum()\n",
    "filt_ST_minus = filt_ST_minus.to_frame()\n",
    "filtered_ST_minus = filt_ST_minus.loc[filt_ST_minus['score'] >= 10]\n",
    "filtered_ST_minus.reset_index(inplace=True)\n",
    "common_ST_minus = K562_ST_minus.merge(filtered_ST_minus, on=[\"start\"], copy=False)"
   ]
  },
  {
   "cell_type": "code",
   "execution_count": 27,
   "id": "97e2b87a",
   "metadata": {},
   "outputs": [
    {
     "data": {
      "text/html": [
       "<div>\n",
       "<style scoped>\n",
       "    .dataframe tbody tr th:only-of-type {\n",
       "        vertical-align: middle;\n",
       "    }\n",
       "\n",
       "    .dataframe tbody tr th {\n",
       "        vertical-align: top;\n",
       "    }\n",
       "\n",
       "    .dataframe thead th {\n",
       "        text-align: right;\n",
       "    }\n",
       "</style>\n",
       "<table border=\"1\" class=\"dataframe\">\n",
       "  <thead>\n",
       "    <tr style=\"text-align: right;\">\n",
       "      <th></th>\n",
       "      <th>score</th>\n",
       "    </tr>\n",
       "    <tr>\n",
       "      <th>end</th>\n",
       "      <th></th>\n",
       "    </tr>\n",
       "  </thead>\n",
       "  <tbody>\n",
       "    <tr>\n",
       "      <th>11707</th>\n",
       "      <td>14</td>\n",
       "    </tr>\n",
       "    <tr>\n",
       "      <th>12972</th>\n",
       "      <td>3</td>\n",
       "    </tr>\n",
       "    <tr>\n",
       "      <th>13855</th>\n",
       "      <td>2</td>\n",
       "    </tr>\n",
       "    <tr>\n",
       "      <th>14621</th>\n",
       "      <td>2</td>\n",
       "    </tr>\n",
       "    <tr>\n",
       "      <th>19281</th>\n",
       "      <td>3</td>\n",
       "    </tr>\n",
       "    <tr>\n",
       "      <th>22933</th>\n",
       "      <td>2</td>\n",
       "    </tr>\n",
       "    <tr>\n",
       "      <th>26291</th>\n",
       "      <td>11</td>\n",
       "    </tr>\n",
       "    <tr>\n",
       "      <th>29238</th>\n",
       "      <td>2</td>\n",
       "    </tr>\n",
       "    <tr>\n",
       "      <th>29279</th>\n",
       "      <td>11</td>\n",
       "    </tr>\n",
       "    <tr>\n",
       "      <th>34895</th>\n",
       "      <td>8</td>\n",
       "    </tr>\n",
       "    <tr>\n",
       "      <th>51058</th>\n",
       "      <td>100</td>\n",
       "    </tr>\n",
       "    <tr>\n",
       "      <th>51261</th>\n",
       "      <td>69</td>\n",
       "    </tr>\n",
       "    <tr>\n",
       "      <th>52452</th>\n",
       "      <td>12</td>\n",
       "    </tr>\n",
       "    <tr>\n",
       "      <th>55880</th>\n",
       "      <td>9</td>\n",
       "    </tr>\n",
       "    <tr>\n",
       "      <th>58860</th>\n",
       "      <td>2</td>\n",
       "    </tr>\n",
       "    <tr>\n",
       "      <th>62775</th>\n",
       "      <td>39</td>\n",
       "    </tr>\n",
       "    <tr>\n",
       "      <th>66346</th>\n",
       "      <td>5</td>\n",
       "    </tr>\n",
       "    <tr>\n",
       "      <th>69250</th>\n",
       "      <td>7</td>\n",
       "    </tr>\n",
       "    <tr>\n",
       "      <th>71366</th>\n",
       "      <td>29</td>\n",
       "    </tr>\n",
       "    <tr>\n",
       "      <th>71440</th>\n",
       "      <td>6</td>\n",
       "    </tr>\n",
       "  </tbody>\n",
       "</table>\n",
       "</div>"
      ],
      "text/plain": [
       "       score\n",
       "end         \n",
       "11707     14\n",
       "12972      3\n",
       "13855      2\n",
       "14621      2\n",
       "19281      3\n",
       "22933      2\n",
       "26291     11\n",
       "29238      2\n",
       "29279     11\n",
       "34895      8\n",
       "51058    100\n",
       "51261     69\n",
       "52452     12\n",
       "55880      9\n",
       "58860      2\n",
       "62775     39\n",
       "66346      5\n",
       "69250      7\n",
       "71366     29\n",
       "71440      6"
      ]
     },
     "execution_count": 27,
     "metadata": {},
     "output_type": "execute_result"
    }
   ],
   "source": [
    "filt_SS_minus = K562_SS_minus.groupby('end')['score'].sum()\n",
    "filt_SS_minus = filt_SS_minus.to_frame()\n",
    "filt_SS_minus[0:20]"
   ]
  },
  {
   "cell_type": "code",
   "execution_count": 28,
   "id": "0e0d76db",
   "metadata": {},
   "outputs": [
    {
     "data": {
      "text/plain": [
       "9474"
      ]
     },
     "execution_count": 28,
     "metadata": {},
     "output_type": "execute_result"
    }
   ],
   "source": [
    "filt_SS_minus = filt_SS_minus.loc[filt_SS_minus['score'] >= 10]\n",
    "len(filt_SS_minus)"
   ]
  },
  {
   "cell_type": "code",
   "execution_count": null,
   "id": "ab454e6f",
   "metadata": {},
   "outputs": [],
   "source": []
  },
  {
   "cell_type": "code",
   "execution_count": 29,
   "id": "a1b6119b",
   "metadata": {},
   "outputs": [],
   "source": [
    "## With this line we de-select the end positions as an index value and a default index is set.\n",
    "filt_SS_minus.reset_index(inplace=True)"
   ]
  },
  {
   "cell_type": "code",
   "execution_count": 30,
   "id": "34d45f85",
   "metadata": {},
   "outputs": [],
   "source": [
    "common_SS_minus = K562_SS_minus.merge(filt_SS_minus, on=[\"end\"], copy=False)"
   ]
  },
  {
   "cell_type": "code",
   "execution_count": 31,
   "id": "7f17f30f",
   "metadata": {},
   "outputs": [
    {
     "data": {
      "text/plain": [
       "28433"
      ]
     },
     "execution_count": 31,
     "metadata": {},
     "output_type": "execute_result"
    }
   ],
   "source": [
    "len(K562_SS_minus)"
   ]
  },
  {
   "cell_type": "code",
   "execution_count": 32,
   "id": "0a3c9d0f",
   "metadata": {},
   "outputs": [
    {
     "data": {
      "text/html": [
       "<div>\n",
       "<style scoped>\n",
       "    .dataframe tbody tr th:only-of-type {\n",
       "        vertical-align: middle;\n",
       "    }\n",
       "\n",
       "    .dataframe tbody tr th {\n",
       "        vertical-align: top;\n",
       "    }\n",
       "\n",
       "    .dataframe thead th {\n",
       "        text-align: right;\n",
       "    }\n",
       "</style>\n",
       "<table border=\"1\" class=\"dataframe\">\n",
       "  <thead>\n",
       "    <tr style=\"text-align: right;\">\n",
       "      <th></th>\n",
       "      <th>chrom</th>\n",
       "      <th>start</th>\n",
       "      <th>end</th>\n",
       "      <th>name</th>\n",
       "      <th>score</th>\n",
       "      <th>strand</th>\n",
       "      <th>splice_site</th>\n",
       "      <th>acceptors_skipped</th>\n",
       "      <th>exons_skipped</th>\n",
       "      <th>donors_skipped</th>\n",
       "      <th>anchor</th>\n",
       "      <th>known_donor</th>\n",
       "      <th>known_acceptor</th>\n",
       "      <th>known_junction</th>\n",
       "      <th>gene_names</th>\n",
       "      <th>gene_ids</th>\n",
       "      <th>transcripts</th>\n",
       "    </tr>\n",
       "  </thead>\n",
       "  <tbody>\n",
       "  </tbody>\n",
       "</table>\n",
       "</div>"
      ],
      "text/plain": [
       "Empty DataFrame\n",
       "Columns: [chrom, start, end, name, score, strand, splice_site, acceptors_skipped, exons_skipped, donors_skipped, anchor, known_donor, known_acceptor, known_junction, gene_names, gene_ids, transcripts]\n",
       "Index: []"
      ]
     },
     "execution_count": 32,
     "metadata": {},
     "output_type": "execute_result"
    }
   ],
   "source": [
    "K562_SS_minus.loc[K562_SS_minus['end'] == 11251]"
   ]
  },
  {
   "cell_type": "markdown",
   "id": "77f139e8",
   "metadata": {},
   "source": [
    "Next, I need to create dataframes with only the position and the score to do the entropy analysis. "
   ]
  },
  {
   "cell_type": "code",
   "execution_count": 33,
   "id": "312905a3",
   "metadata": {},
   "outputs": [],
   "source": [
    "ncommon_SS_minus = common_SS_minus[['end', 'score_x']]"
   ]
  },
  {
   "cell_type": "code",
   "execution_count": 34,
   "id": "7fc14401",
   "metadata": {},
   "outputs": [],
   "source": [
    "ncommon_ST_minus = common_ST_minus[['start', 'score_x']]\n",
    "ncommon_ST_plus = common_ST_plus[['end', 'score_x']]\n",
    "ncommon_SS_plus = common_SS_plus[['start', 'score_x']]"
   ]
  },
  {
   "cell_type": "code",
   "execution_count": 35,
   "id": "1624531d",
   "metadata": {},
   "outputs": [],
   "source": [
    "ncommon_ST_plus = common_ST_plus[['end', 'score_x']]"
   ]
  },
  {
   "cell_type": "markdown",
   "id": "f7bf7a41",
   "metadata": {},
   "source": [
    "Next, we use the function defined below to calculate the probability strings"
   ]
  },
  {
   "cell_type": "code",
   "execution_count": 36,
   "id": "d33a0094",
   "metadata": {},
   "outputs": [],
   "source": [
    "def probability_splice_sites(splice_sites_dataframe):\n",
    "# variable declaration\n",
    "    i=0\n",
    "    total = 0\n",
    "    start_section = []\n",
    "    total_score_for_duplicates = 0\n",
    "    probability_string = []\n",
    "    total_prob_string = []\n",
    "    mylist = []\n",
    "    splice_sites_dataframe.columns = ['start_end_pos', 'score']\n",
    "    # iteration trough the length of new_kidney, that contains all the duplicated splice forms (the probability of the single splice forms is always 1)\n",
    "    for i in range((len(splice_sites_dataframe)-1)):\n",
    "        if splice_sites_dataframe[\"start_end_pos\"][i] == splice_sites_dataframe[\"start_end_pos\"][i+1]:\n",
    "            start_section.append(i)\n",
    "            start_section.append(i+1)\n",
    "            # generation of a list that contains all the spliced forms groups that share a common start position\n",
    "            mylist = list(dict.fromkeys(start_section))\n",
    "        else:\n",
    "        # iteration using the index list to calculate the total scores of the different spliced forms of a splice junction\n",
    "            for n in mylist:\n",
    "                total_score_for_duplicates += splice_sites_dataframe[\"score\"].loc[n]\n",
    "        # second iteration that calculates a new string with the probabilities of every spliced form according to their scores\n",
    "            for z in mylist:\n",
    "                probability_string.append(splice_sites_dataframe[\"score\"].loc[z]/total_score_for_duplicates)\n",
    "            total_prob_string.append(probability_string)\n",
    "        # resetting of variables\n",
    "            total_score_for_duplicates = 0\n",
    "            start_section = []\n",
    "            probability_string = []\n",
    "    return(total_prob_string)\n"
   ]
  },
  {
   "cell_type": "code",
   "execution_count": 37,
   "id": "2ea3da54",
   "metadata": {},
   "outputs": [],
   "source": [
    "prob_ST_plus = probability_splice_sites(ncommon_ST_plus)"
   ]
  },
  {
   "cell_type": "code",
   "execution_count": 38,
   "id": "cdbf7c83",
   "metadata": {},
   "outputs": [],
   "source": [
    "prob_SS_plus = probability_splice_sites(ncommon_SS_plus)"
   ]
  },
  {
   "cell_type": "code",
   "execution_count": 39,
   "id": "8280d1f9",
   "metadata": {},
   "outputs": [],
   "source": [
    "prob_SS_minus = probability_splice_sites(ncommon_SS_minus)"
   ]
  },
  {
   "cell_type": "code",
   "execution_count": 40,
   "id": "76805702",
   "metadata": {},
   "outputs": [],
   "source": [
    "prob_ST_minus = probability_splice_sites(ncommon_ST_minus)"
   ]
  },
  {
   "cell_type": "code",
   "execution_count": 41,
   "id": "a26207e5",
   "metadata": {},
   "outputs": [],
   "source": [
    "## Function to calculate the Shannon entropy\n",
    "import numpy as np\n",
    "import math\n",
    "shannon_entropy_values = []\n",
    "\n",
    "def shannon_entropy(x):\n",
    "    return x * np.log(x)"
   ]
  },
  {
   "cell_type": "code",
   "execution_count": 42,
   "id": "c1d8764d",
   "metadata": {},
   "outputs": [],
   "source": [
    "individual_SE_ST_plus = list(map(shannon_entropy, prob_ST_plus))\n",
    "individual_SE_ST_minus = list(map(shannon_entropy, prob_ST_minus))\n",
    "individual_SE_SS_plus = list(map(shannon_entropy, prob_SS_plus))\n",
    "individual_SE_SS_minus = list(map(shannon_entropy, prob_SS_minus))"
   ]
  },
  {
   "cell_type": "code",
   "execution_count": 43,
   "id": "2348fd24",
   "metadata": {},
   "outputs": [],
   "source": [
    "i = 0\n",
    "normalized_entropy_grupo_SS_plus = []\n",
    "for i in individual_SE_SS_plus:\n",
    "    grupo = i\n",
    "    n = len(i)\n",
    "    entropia_normalizada_grupo = (sum(grupo)*-1)/np.log(n)\n",
    "    normalized_entropy_grupo_SS_plus.append(entropia_normalizada_grupo)"
   ]
  },
  {
   "cell_type": "code",
   "execution_count": 44,
   "id": "d50dae0c",
   "metadata": {},
   "outputs": [],
   "source": [
    "i = 0\n",
    "normalized_entropy_grupo_ST_plus = []\n",
    "for i in individual_SE_ST_plus:\n",
    "    grupo = i\n",
    "    n = len(i)\n",
    "    entropia_normalizada_grupo = (sum(grupo)*-1)/np.log(n)\n",
    "    normalized_entropy_grupo_ST_plus.append(entropia_normalizada_grupo)"
   ]
  },
  {
   "cell_type": "code",
   "execution_count": 45,
   "id": "b26d6dfd",
   "metadata": {},
   "outputs": [],
   "source": [
    "i = 0\n",
    "normalized_entropy_grupo_SS_minus = []\n",
    "for i in individual_SE_SS_minus:\n",
    "    grupo = i\n",
    "    n = len(i)\n",
    "    entropia_normalizada_grupo = (sum(grupo)*-1)/np.log(n)\n",
    "    normalized_entropy_grupo_SS_minus.append(entropia_normalizada_grupo)"
   ]
  },
  {
   "cell_type": "code",
   "execution_count": 46,
   "id": "0f90cbef",
   "metadata": {},
   "outputs": [],
   "source": [
    "i = 0\n",
    "normalized_entropy_grupo_ST_minus = []\n",
    "for i in individual_SE_ST_minus:\n",
    "    grupo = i\n",
    "    n = len(i)\n",
    "    entropia_normalizada_grupo = (sum(grupo)*-1)/np.log(n)\n",
    "    normalized_entropy_grupo_ST_minus.append(entropia_normalizada_grupo)"
   ]
  },
  {
   "cell_type": "code",
   "execution_count": 47,
   "id": "5fc4e562",
   "metadata": {},
   "outputs": [],
   "source": [
    "entropy_twostrands = normalized_entropy_grupo_SS_plus + normalized_entropy_grupo_SS_minus + normalized_entropy_grupo_ST_plus + normalized_entropy_grupo_ST_minus"
   ]
  },
  {
   "cell_type": "code",
   "execution_count": 48,
   "id": "6d064e1e",
   "metadata": {
    "scrolled": true
   },
   "outputs": [],
   "source": [
    "normalized_entropy_grupo_lista = pd.DataFrame(entropy_twostrands)\n",
    "normalized_entropy_grupo_lista.to_csv('new_version_normalized_entropy_groups_brain_10.csv')"
   ]
  },
  {
   "cell_type": "code",
   "execution_count": 49,
   "id": "0f0ddf40",
   "metadata": {},
   "outputs": [
    {
     "data": {
      "image/png": "[encoded data removed]",
      "text/plain": [
       "<Figure size 864x432 with 1 Axes>"
      ]
     },
     "metadata": {
      "needs_background": "light"
     },
     "output_type": "display_data"
    }
   ],
   "source": [
    "ax = sns.displot(data=normalized_entropy_grupo_lista, \n",
    "              color = 'black', legend = False)\n",
    "ax.set(xlabel='Normalized entropy', ylabel='Frequency')\n",
    "ax.fig.set_size_inches(12,6)\n",
    "sns.set_style(\"darkgrid\")\n",
    "\n",
    "plt.show()"
   ]
  },
  {
   "cell_type": "markdown",
   "id": "ae1999a1",
   "metadata": {},
   "source": [
    "## Second type of filtering: before joining the junctions\n",
    "In this case we would have to return to code chunk 3 and filter the splice forms individually to keep only the ones which have a number of reads higher than the threshold selected. "
   ]
  },
  {
   "cell_type": "code",
   "execution_count": 50,
   "id": "5331aef6",
   "metadata": {},
   "outputs": [],
   "source": [
    "new_SS_K562_minus = K562_SS_minus[['end', 'score']]\n",
    "new_SS_K562_minus = new_SS_K562_minus.sort_values(by = 'end', ascending = True)"
   ]
  },
  {
   "cell_type": "code",
   "execution_count": 51,
   "id": "0669abce",
   "metadata": {},
   "outputs": [],
   "source": [
    "new_ST_K562_minus = K562_ST_minus[['start', 'score']]"
   ]
  },
  {
   "cell_type": "code",
   "execution_count": 52,
   "id": "3d7214c7",
   "metadata": {},
   "outputs": [],
   "source": [
    "new_SS_K562_plus = K562_SS_plus[['start', 'score']]"
   ]
  },
  {
   "cell_type": "code",
   "execution_count": 53,
   "id": "197ebcc7",
   "metadata": {},
   "outputs": [],
   "source": [
    "new_ST_K562_plus = K562_ST_plus[['end', 'score']]\n",
    "new_ST_K562_plus = new_ST_K562_plus.sort_values(by = 'end', ascending = True)"
   ]
  },
  {
   "cell_type": "markdown",
   "id": "c3fe15ca",
   "metadata": {},
   "source": [
    "Next, we need to find a way to apply this to all spliced forms grouping them by splice junction start position.\n",
    "First of all, we will re-order the index of our data to make its handling easier. I'm setting a new index that has a normal numerical order for making the iteration function easier."
   ]
  },
  {
   "cell_type": "code",
   "execution_count": 54,
   "id": "077af036",
   "metadata": {},
   "outputs": [],
   "source": [
    "## WARNING ## This code chunk can only be run once. If we run it more times, \n",
    "# it creates more columns and then we can't set only one of them as the index + we have to erase them\n",
    "indexrange = list(range(len(new_SS_K562_plus)))\n",
    "new_SS_K562_plus.insert(2, \"index\", indexrange, True)"
   ]
  },
  {
   "cell_type": "code",
   "execution_count": 55,
   "id": "e5c9b9ac",
   "metadata": {
    "scrolled": true
   },
   "outputs": [],
   "source": [
    "indexrange = list(range(len(new_SS_K562_minus)))\n",
    "new_SS_K562_minus.insert(2, \"index\", indexrange, True)"
   ]
  },
  {
   "cell_type": "code",
   "execution_count": 56,
   "id": "3e659570",
   "metadata": {},
   "outputs": [],
   "source": [
    "indexrange = list(range(len(new_ST_K562_plus)))\n",
    "new_ST_K562_plus.insert(2, \"index\", indexrange, True)"
   ]
  },
  {
   "cell_type": "code",
   "execution_count": 57,
   "id": "ffd07ab3",
   "metadata": {},
   "outputs": [],
   "source": [
    "indexrange = list(range(len(new_ST_K562_minus)))\n",
    "new_ST_K562_minus.insert(2, \"index\", indexrange, True)"
   ]
  },
  {
   "cell_type": "code",
   "execution_count": 58,
   "id": "eb1ba7f2",
   "metadata": {},
   "outputs": [],
   "source": [
    "new_SS_K562_plus=new_SS_K562_plus.set_index('index')"
   ]
  },
  {
   "cell_type": "code",
   "execution_count": 59,
   "id": "42fd54a3",
   "metadata": {},
   "outputs": [],
   "source": [
    "new_ST_K562_plus=new_ST_K562_plus.set_index('index')"
   ]
  },
  {
   "cell_type": "code",
   "execution_count": 60,
   "id": "f1b378bd",
   "metadata": {},
   "outputs": [],
   "source": [
    "new_SS_K562_minus=new_SS_K562_minus.set_index('index')"
   ]
  },
  {
   "cell_type": "code",
   "execution_count": 61,
   "id": "0b443e9a",
   "metadata": {},
   "outputs": [],
   "source": [
    "new_ST_K562_minus=new_ST_K562_minus.set_index('index')"
   ]
  },
  {
   "cell_type": "markdown",
   "id": "8c4e4708",
   "metadata": {},
   "source": [
    "Next, we will define a function that calculates the probability of using one splice form in a given splice junction. This is calculated by dividing the score of the splice form by the total sum of scores in that splice junction."
   ]
  },
  {
   "cell_type": "code",
   "execution_count": 62,
   "id": "e77103f6",
   "metadata": {},
   "outputs": [],
   "source": [
    "def probability_splice_sites(splice_sites_dataframe):\n",
    "# variable declaration\n",
    "    i=0\n",
    "    total = 0\n",
    "    start_section = []\n",
    "    total_score_for_duplicates = 0\n",
    "    probability_string = []\n",
    "    total_prob_string = []\n",
    "    mylist = []\n",
    "    splice_sites_dataframe.columns = ['start_end_pos', 'score']\n",
    "    # iteration trough the length of new_kidney, that contains all the duplicated splice forms (the probability of the single splice forms is always 1)\n",
    "    for i in range((len(splice_sites_dataframe)-1)):\n",
    "        if splice_sites_dataframe[\"start_end_pos\"][i] == splice_sites_dataframe[\"start_end_pos\"][i+1]:\n",
    "            start_section.append(i)\n",
    "            start_section.append(i+1)\n",
    "            # generation of a list that contains all the spliced forms groups that share a common start position\n",
    "            mylist = list(dict.fromkeys(start_section))\n",
    "        else:\n",
    "        # iteration using the index list to calculate the total scores of the different spliced forms of a splice junction\n",
    "            for n in mylist:\n",
    "                total_score_for_duplicates += splice_sites_dataframe[\"score\"].loc[n]\n",
    "        # second iteration that calculates a new string with the probabilities of every spliced form according to their scores\n",
    "            for z in mylist:\n",
    "                probability_string.append(splice_sites_dataframe[\"score\"].loc[z]/total_score_for_duplicates)\n",
    "            total_prob_string.append(probability_string)\n",
    "        # resetting of variables\n",
    "            total_score_for_duplicates = 0\n",
    "            start_section = []\n",
    "            probability_string = []\n",
    "    return(total_prob_string)\n"
   ]
  },
  {
   "cell_type": "code",
   "execution_count": 63,
   "id": "d0cdf1f7",
   "metadata": {},
   "outputs": [],
   "source": [
    "prob_string_SS_minus = probability_splice_sites(new_SS_K562_minus)\n",
    "prob_string_SS_plus = probability_splice_sites(new_SS_K562_plus)\n",
    "prob_string_ST_minus = probability_splice_sites(new_ST_K562_minus)\n",
    "prob_string_ST_plus = probability_splice_sites(new_ST_K562_plus)\n"
   ]
  },
  {
   "cell_type": "markdown",
   "id": "6943b389",
   "metadata": {},
   "source": [
    "How are the alternative splicing probabilities? Do all splice form tend to be expressed in the same \"quantity\"?"
   ]
  },
  {
   "cell_type": "code",
   "execution_count": 64,
   "id": "4ca3153d",
   "metadata": {},
   "outputs": [],
   "source": [
    "### transform the list of lists into list first in order to save it as a data frame\n",
    "flat_list_ST_plus = []\n",
    "for sublist in prob_string_ST_plus:\n",
    "    for item in sublist:\n",
    "        flat_list_ST_plus.append(item)\n"
   ]
  },
  {
   "cell_type": "code",
   "execution_count": 65,
   "id": "a2e00cdf",
   "metadata": {},
   "outputs": [],
   "source": [
    "flat_list_SS_plus = []\n",
    "for sublist in prob_string_SS_plus:\n",
    "    for item in sublist:\n",
    "        flat_list_SS_plus.append(item)\n"
   ]
  },
  {
   "cell_type": "code",
   "execution_count": 66,
   "id": "5ba54fbb",
   "metadata": {},
   "outputs": [],
   "source": [
    "### transform the list of lists into list first in order to save it as a data frame\n",
    "flat_list_ST_minus = []\n",
    "for sublist in prob_string_ST_minus:\n",
    "    for item in sublist:\n",
    "        flat_list_ST_minus.append(item)\n"
   ]
  },
  {
   "cell_type": "code",
   "execution_count": 67,
   "id": "d7f21c17",
   "metadata": {},
   "outputs": [],
   "source": [
    "flat_list_SS_minus = []\n",
    "for sublist in prob_string_SS_minus:\n",
    "    for item in sublist:\n",
    "        flat_list_SS_minus.append(item)\n"
   ]
  },
  {
   "cell_type": "code",
   "execution_count": 68,
   "id": "cd5ed40a",
   "metadata": {},
   "outputs": [],
   "source": [
    "final_list = flat_list_ST_plus + flat_list_ST_minus + flat_list_SS_plus + flat_list_SS_minus"
   ]
  },
  {
   "cell_type": "code",
   "execution_count": 69,
   "id": "27053d8a",
   "metadata": {},
   "outputs": [
    {
     "data": {
      "text/plain": [
       "114612"
      ]
     },
     "execution_count": 69,
     "metadata": {},
     "output_type": "execute_result"
    }
   ],
   "source": [
    "len(final_list)"
   ]
  },
  {
   "cell_type": "code",
   "execution_count": 70,
   "id": "ef09cd40",
   "metadata": {},
   "outputs": [],
   "source": [
    "final_prob_df = pd.DataFrame(final_list)\n",
    "final_prob_df.to_csv('alt_splicing_prob_K562_5.csv')"
   ]
  },
  {
   "cell_type": "code",
   "execution_count": 71,
   "id": "464642fa",
   "metadata": {},
   "outputs": [
    {
     "data": {
      "image/png": "[encoded data removed]",
      "text/plain": [
       "<Figure size 864x432 with 1 Axes>"
      ]
     },
     "metadata": {},
     "output_type": "display_data"
    }
   ],
   "source": [
    "ax = sns.displot(data=final_prob_df, \n",
    "              color = 'black', legend = False)\n",
    "ax.set(xlabel='Alternative splicing probability', ylabel='Frequency')\n",
    "ax.fig.set_size_inches(12,6)\n",
    "sns.set_style(\"darkgrid\")\n",
    "\n",
    "plt.show()"
   ]
  },
  {
   "cell_type": "markdown",
   "id": "b452229c",
   "metadata": {},
   "source": [
    "Now that I have the probability string for each group of spliced forms that share a common start position, I need to compute the Shannon entropy for each of those groups. "
   ]
  },
  {
   "cell_type": "markdown",
   "id": "19c94b63",
   "metadata": {},
   "source": [
    "Function to calculate Shannon entropy:"
   ]
  },
  {
   "cell_type": "code",
   "execution_count": 72,
   "id": "4ce65342",
   "metadata": {},
   "outputs": [],
   "source": [
    "import numpy as np\n",
    "import math\n",
    "shannon_entropy_values = []\n",
    "\n",
    "def shannon_entropy(x):\n",
    "    return x * np.log(x)\n"
   ]
  },
  {
   "cell_type": "code",
   "execution_count": 73,
   "id": "4d000441",
   "metadata": {},
   "outputs": [],
   "source": [
    "individual_SE_SS_minus = list(map(shannon_entropy, prob_string_SS_minus))"
   ]
  },
  {
   "cell_type": "code",
   "execution_count": 74,
   "id": "a3fae82a",
   "metadata": {},
   "outputs": [
    {
     "data": {
      "text/plain": [
       "0.28907945973164645"
      ]
     },
     "execution_count": 74,
     "metadata": {},
     "output_type": "execute_result"
    }
   ],
   "source": [
    "sum_t = 225+12\n",
    "prob1 = 225/sum_t\n",
    "prob2 = 12/sum_t\n",
    "\n",
    "shannon_e = (prob1 * np.log(prob1)) + (prob2 * np.log(prob2))\n",
    "shannon_e = shannon_e * (-1)\n",
    "shannon_e/np.log(2)\n"
   ]
  },
  {
   "cell_type": "markdown",
   "id": "ab38ab58",
   "metadata": {},
   "source": [
    "Function to caculate entropy as in Steine-Weiler et al. (2018)"
   ]
  },
  {
   "cell_type": "code",
   "execution_count": 75,
   "id": "f9a4e9e1",
   "metadata": {},
   "outputs": [],
   "source": [
    "import numpy as np\n",
    "\n",
    "shannon_entropy_values = []\n",
    "\n",
    "def shannon_entropy_log2(x):\n",
    "    return x * np.log2(x)\n",
    "\n",
    "individual_SE_SS_plus = list(map(shannon_entropy, prob_string_SS_plus))"
   ]
  },
  {
   "cell_type": "code",
   "execution_count": 76,
   "id": "0f566f10",
   "metadata": {},
   "outputs": [],
   "source": [
    "individual_SE_ST_plus = list(map(shannon_entropy, prob_string_ST_plus))\n",
    "individual_SE_ST_minus = list(map(shannon_entropy, prob_string_ST_minus))"
   ]
  },
  {
   "cell_type": "code",
   "execution_count": 77,
   "id": "2f540ebc",
   "metadata": {},
   "outputs": [],
   "source": [
    "i = 0\n",
    "entropia_grupo_lista_SS_plus = []\n",
    "for i in individual_SE_SS_plus:\n",
    "    grupo = i\n",
    "    entropia_grupo = sum(grupo)*-1\n",
    "    entropia_grupo_lista_SS_plus.append(entropia_grupo)    "
   ]
  },
  {
   "cell_type": "code",
   "execution_count": 78,
   "id": "b9654d15",
   "metadata": {},
   "outputs": [],
   "source": [
    "i = 0\n",
    "entropia_grupo_lista_SS_minus = []\n",
    "for i in individual_SE_SS_minus:\n",
    "    grupo = i\n",
    "    entropia_grupo = sum(grupo)*-1\n",
    "    entropia_grupo_lista_SS_minus.append(entropia_grupo)    "
   ]
  },
  {
   "cell_type": "code",
   "execution_count": 79,
   "id": "fa722f67",
   "metadata": {},
   "outputs": [],
   "source": [
    "i = 0\n",
    "entropia_grupo_lista_ST_plus = []\n",
    "for i in individual_SE_ST_plus:\n",
    "    grupo = i\n",
    "    entropia_grupo = sum(grupo)*-1\n",
    "    entropia_grupo_lista_ST_plus.append(entropia_grupo)    "
   ]
  },
  {
   "cell_type": "code",
   "execution_count": 80,
   "id": "c82d96fd",
   "metadata": {},
   "outputs": [],
   "source": [
    "i = 0\n",
    "group_entropy_list_ST_minus = []\n",
    "for i in individual_SE_ST_minus:\n",
    "    grupo = i\n",
    "    entropia_grupo = sum(grupo)*-1\n",
    "    group_entropy_list_ST_minus.append(entropia_grupo)    "
   ]
  },
  {
   "cell_type": "code",
   "execution_count": 81,
   "id": "9620fbf6",
   "metadata": {},
   "outputs": [],
   "source": [
    "not_normalized_entropy_twostrands = entropia_grupo_lista_SS_plus + entropia_grupo_lista_SS_minus +  entropia_grupo_lista_ST_plus + group_entropy_list_ST_minus"
   ]
  },
  {
   "cell_type": "code",
   "execution_count": 82,
   "id": "a1321abb",
   "metadata": {
    "scrolled": true
   },
   "outputs": [],
   "source": [
    "not_normalized_entropy_twostrands = pd.DataFrame(not_normalized_entropy_twostrands)"
   ]
  },
  {
   "cell_type": "code",
   "execution_count": 83,
   "id": "5d857bf5",
   "metadata": {},
   "outputs": [],
   "source": [
    "not_normalized_entropy_twostrands.to_csv('not_normalized_entropy_K562_5.csv')"
   ]
  },
  {
   "cell_type": "code",
   "execution_count": 84,
   "id": "1dd42374",
   "metadata": {},
   "outputs": [
    {
     "data": {
      "image/png": "[encoded data removed]",
      "text/plain": [
       "<Figure size 864x432 with 1 Axes>"
      ]
     },
     "metadata": {},
     "output_type": "display_data"
    }
   ],
   "source": [
    "ax = sns.displot(data=not_normalized_entropy_twostrands, \n",
    "              color = 'black', legend = False)\n",
    "ax.set(xlabel='Entropy', ylabel='Frequency')\n",
    "ax.fig.set_size_inches(12,6)\n",
    "sns.set_style(\"darkgrid\")\n",
    "\n",
    "plt.show()"
   ]
  },
  {
   "cell_type": "markdown",
   "id": "62c9d301",
   "metadata": {},
   "source": [
    "Normalized entropy calculation for the splice junction groups:"
   ]
  },
  {
   "cell_type": "code",
   "execution_count": 85,
   "id": "ff643792",
   "metadata": {},
   "outputs": [],
   "source": [
    "i = 0\n",
    "normalized_entropy_grupo_SS_plus = []\n",
    "for i in individual_SE_SS_plus:\n",
    "    grupo = i\n",
    "    n = len(i)\n",
    "    entropia_normalizada_grupo = (sum(grupo)*-1)/np.log(n)\n",
    "    normalized_entropy_grupo_SS_plus.append(entropia_normalizada_grupo)"
   ]
  },
  {
   "cell_type": "code",
   "execution_count": 86,
   "id": "7b167a09",
   "metadata": {},
   "outputs": [],
   "source": [
    "i = 0\n",
    "normalized_entropy_grupo_SS_minus = []\n",
    "for i in individual_SE_SS_minus:\n",
    "    grupo = i\n",
    "    n = len(i)\n",
    "    entropia_normalizada_grupo = (sum(grupo)*-1)/np.log(n)\n",
    "    normalized_entropy_grupo_SS_minus.append(entropia_normalizada_grupo)\n"
   ]
  },
  {
   "cell_type": "code",
   "execution_count": 87,
   "id": "35eeb6ce",
   "metadata": {},
   "outputs": [],
   "source": [
    "i = 0\n",
    "normalized_entropy_group_ST_plus = []\n",
    "for i in individual_SE_ST_plus:\n",
    "    grupo = i\n",
    "    n = len(i)\n",
    "    entropia_normalizada_grupo = ((sum(grupo))*-1)/np.log(n)\n",
    "    normalized_entropy_group_ST_plus.append(entropia_normalizada_grupo)\n"
   ]
  },
  {
   "cell_type": "code",
   "execution_count": 88,
   "id": "82e7217e",
   "metadata": {},
   "outputs": [],
   "source": [
    "i = 0\n",
    "normalized_entropy_grupo_ST_minus = []\n",
    "for i in individual_SE_ST_minus:\n",
    "    grupo = i\n",
    "    n = len(i)\n",
    "    entropia_normalizada_grupo = ((sum(grupo))*-1)/(np.log(n))\n",
    "    normalized_entropy_grupo_ST_minus.append(entropia_normalizada_grupo)\n"
   ]
  },
  {
   "cell_type": "code",
   "execution_count": 89,
   "id": "229ee1a8",
   "metadata": {},
   "outputs": [],
   "source": [
    "entropy_twostrands = normalized_entropy_grupo_SS_plus + normalized_entropy_grupo_SS_minus + normalized_entropy_group_ST_plus + normalized_entropy_grupo_ST_minus"
   ]
  },
  {
   "cell_type": "code",
   "execution_count": 90,
   "id": "dcd408fc",
   "metadata": {},
   "outputs": [],
   "source": [
    "normalized_entropy_grupo_lista = pd.DataFrame(entropy_twostrands)\n",
    "normalized_entropy_grupo_lista.to_csv('normalized_entropy_groups_K562_0.csv')"
   ]
  },
  {
   "cell_type": "code",
   "execution_count": 91,
   "id": "c8b2cd5c",
   "metadata": {},
   "outputs": [
    {
     "data": {
      "text/html": [
       "<div>\n",
       "<style scoped>\n",
       "    .dataframe tbody tr th:only-of-type {\n",
       "        vertical-align: middle;\n",
       "    }\n",
       "\n",
       "    .dataframe tbody tr th {\n",
       "        vertical-align: top;\n",
       "    }\n",
       "\n",
       "    .dataframe thead th {\n",
       "        text-align: right;\n",
       "    }\n",
       "</style>\n",
       "<table border=\"1\" class=\"dataframe\">\n",
       "  <thead>\n",
       "    <tr style=\"text-align: right;\">\n",
       "      <th></th>\n",
       "      <th>0</th>\n",
       "    </tr>\n",
       "  </thead>\n",
       "  <tbody>\n",
       "    <tr>\n",
       "      <th>4444</th>\n",
       "      <td>1.0</td>\n",
       "    </tr>\n",
       "    <tr>\n",
       "      <th>5528</th>\n",
       "      <td>1.0</td>\n",
       "    </tr>\n",
       "    <tr>\n",
       "      <th>11665</th>\n",
       "      <td>1.0</td>\n",
       "    </tr>\n",
       "    <tr>\n",
       "      <th>12843</th>\n",
       "      <td>1.0</td>\n",
       "    </tr>\n",
       "    <tr>\n",
       "      <th>21633</th>\n",
       "      <td>1.0</td>\n",
       "    </tr>\n",
       "    <tr>\n",
       "      <th>23616</th>\n",
       "      <td>1.0</td>\n",
       "    </tr>\n",
       "    <tr>\n",
       "      <th>24722</th>\n",
       "      <td>1.0</td>\n",
       "    </tr>\n",
       "    <tr>\n",
       "      <th>24768</th>\n",
       "      <td>1.0</td>\n",
       "    </tr>\n",
       "    <tr>\n",
       "      <th>24821</th>\n",
       "      <td>1.0</td>\n",
       "    </tr>\n",
       "    <tr>\n",
       "      <th>31574</th>\n",
       "      <td>1.0</td>\n",
       "    </tr>\n",
       "    <tr>\n",
       "      <th>35460</th>\n",
       "      <td>1.0</td>\n",
       "    </tr>\n",
       "    <tr>\n",
       "      <th>40704</th>\n",
       "      <td>1.0</td>\n",
       "    </tr>\n",
       "    <tr>\n",
       "      <th>40764</th>\n",
       "      <td>1.0</td>\n",
       "    </tr>\n",
       "    <tr>\n",
       "      <th>46421</th>\n",
       "      <td>1.0</td>\n",
       "    </tr>\n",
       "    <tr>\n",
       "      <th>46495</th>\n",
       "      <td>1.0</td>\n",
       "    </tr>\n",
       "    <tr>\n",
       "      <th>48023</th>\n",
       "      <td>1.0</td>\n",
       "    </tr>\n",
       "  </tbody>\n",
       "</table>\n",
       "</div>"
      ],
      "text/plain": [
       "         0\n",
       "4444   1.0\n",
       "5528   1.0\n",
       "11665  1.0\n",
       "12843  1.0\n",
       "21633  1.0\n",
       "23616  1.0\n",
       "24722  1.0\n",
       "24768  1.0\n",
       "24821  1.0\n",
       "31574  1.0\n",
       "35460  1.0\n",
       "40704  1.0\n",
       "40764  1.0\n",
       "46421  1.0\n",
       "46495  1.0\n",
       "48023  1.0"
      ]
     },
     "execution_count": 91,
     "metadata": {},
     "output_type": "execute_result"
    }
   ],
   "source": [
    "normalized_entropy_grupo_lista.loc[normalized_entropy_grupo_lista[0]>1]"
   ]
  },
  {
   "cell_type": "code",
   "execution_count": 92,
   "id": "a5fd8d35",
   "metadata": {},
   "outputs": [
    {
     "data": {
      "image/png": "[encoded data removed]",
      "text/plain": [
       "<Figure size 864x432 with 1 Axes>"
      ]
     },
     "metadata": {},
     "output_type": "display_data"
    }
   ],
   "source": [
    "ax = sns.displot(data=normalized_entropy_grupo_lista, \n",
    "              color = 'black', legend = False)\n",
    "ax.set(xlabel='Normalized entropy', ylabel='Frequency')\n",
    "ax.fig.set_size_inches(12,6)\n",
    "sns.set_style(\"darkgrid\")\n",
    "\n",
    "plt.show()"
   ]
  }
 ],
 "metadata": {
  "kernelspec": {
   "display_name": "Python 3",
   "language": "python",
   "name": "python3"
  },
  "language_info": {
   "codemirror_mode": {
    "name": "ipython",
    "version": 3
   },
   "file_extension": ".py",
   "mimetype": "text/x-python",
   "name": "python",
   "nbconvert_exporter": "python",
   "pygments_lexer": "ipython3",
   "version": "3.8.8"
  }
 },
 "nbformat": 4,
 "nbformat_minor": 5
}
